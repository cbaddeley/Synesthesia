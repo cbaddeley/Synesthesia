{
 "cells": [
  {
   "cell_type": "code",
   "execution_count": 1,
   "id": "9497529e",
   "metadata": {},
   "outputs": [
    {
     "data": {
      "text/plain": [
       "7"
      ]
     },
     "execution_count": 1,
     "metadata": {},
     "output_type": "execute_result"
    }
   ],
   "source": [
    "3 + 4"
   ]
  },
  {
   "cell_type": "code",
   "execution_count": 4,
   "id": "6acbef42",
   "metadata": {},
   "outputs": [],
   "source": [
    "import essentia"
   ]
  },
  {
   "cell_type": "code",
   "execution_count": 2,
   "id": "486a32e6",
   "metadata": {},
   "outputs": [],
   "source": [
    "filename = '../mp3/punky.mp3'"
   ]
  },
  {
   "cell_type": "code",
   "execution_count": 3,
   "id": "7fabd176",
   "metadata": {},
   "outputs": [],
   "source": [
    "modelName = 'msd-musicnn-1.pb'\n",
    "input_layer = 'model/Placeholder'\n",
    "output_layer = 'model/Sigmoid'\n",
    "msd_labels = ['rock','pop','alternative','indie','electronic','female vocalists','dance','00s','alternative rock','jazz','beautiful','metal','chillout','male vocalists','classic rock','soul','indie rock','Mellow','electronica','80s','folk','90s','chill','instrumental','punk','oldies','blues','hard rock','ambient','acoustic','experimental','female vocalist','guitar','Hip-Hop','70s','party','country','easy listening','sexy','catchy','funk','electro','heavy metal','Progressive rock','60s','rnb','indie pop','sad','House','happy']"
   ]
  },
  {
   "cell_type": "code",
   "execution_count": 4,
   "id": "2378b7be",
   "metadata": {},
   "outputs": [],
   "source": [
    "# analysis parameters\n",
    "sampleRate = 16000\n",
    "frameSize=512\n",
    "hopSize=256\n",
    "\n",
    "# mel bands parameters\n",
    "numberBands=96\n",
    "weighting='linear'\n",
    "warpingFormula='slaneyMel'\n",
    "normalize='unit_tri'\n",
    "\n",
    "# model parameters\n",
    "patchSize = 187"
   ]
  },
  {
   "cell_type": "code",
   "execution_count": 5,
   "id": "d6a3f8ef",
   "metadata": {},
   "outputs": [
    {
     "data": {
      "text/plain": [
       "['/mnt/c/Users/grg_k/Synesthesia/essentia_models',\n",
       " '/usr/lib/python38.zip',\n",
       " '/usr/lib/python3.8',\n",
       " '/usr/lib/python3.8/lib-dynload',\n",
       " '',\n",
       " '/home/georgekolasa/.local/lib/python3.8/site-packages',\n",
       " '/usr/local/lib/python3.8/dist-packages',\n",
       " '/usr/lib/python3/dist-packages',\n",
       " '/home/georgekolasa/.local/lib/python3.8/site-packages/IPython/extensions',\n",
       " '/home/georgekolasa/.ipython']"
      ]
     },
     "execution_count": 5,
     "metadata": {},
     "output_type": "execute_result"
    }
   ],
   "source": [
    "import sys\n",
    "sys.path\n"
   ]
  },
  {
   "cell_type": "code",
   "execution_count": 6,
   "id": "af8742db",
   "metadata": {},
   "outputs": [
    {
     "data": {
      "text/plain": [
       "['/usr/local/lib/python3/dist-packages',\n",
       " '/mnt/c/Users/grg_k/Synesthesia/essentia_models',\n",
       " '/usr/lib/python38.zip',\n",
       " '/usr/lib/python3.8',\n",
       " '/usr/lib/python3.8/lib-dynload',\n",
       " '',\n",
       " '/home/georgekolasa/.local/lib/python3.8/site-packages',\n",
       " '/usr/local/lib/python3.8/dist-packages',\n",
       " '/usr/lib/python3/dist-packages',\n",
       " '/home/georgekolasa/.local/lib/python3.8/site-packages/IPython/extensions',\n",
       " '/home/georgekolasa/.ipython']"
      ]
     },
     "execution_count": 6,
     "metadata": {},
     "output_type": "execute_result"
    }
   ],
   "source": [
    "sys.path.insert(0, \"/usr/local/lib/python3/dist-packages\")\n",
    "sys.path\n"
   ]
  },
  {
   "cell_type": "code",
   "execution_count": 7,
   "id": "3e0c9163",
   "metadata": {},
   "outputs": [
    {
     "name": "stderr",
     "output_type": "stream",
     "text": [
      "2021-07-16 16:05:29.973125: I tensorflow/core/platform/cpu_feature_guard.cc:142] This TensorFlow binary is optimized with oneAPI Deep Neural Network Library (oneDNN) to use the following CPU instructions in performance-critical operations:  AVX2 FMA\n",
      "To enable them in other operations, rebuild TensorFlow with the appropriate compiler flags.\n"
     ]
    }
   ],
   "source": [
    "from essentia.streaming import *\n",
    "from essentia import Pool, run\n"
   ]
  },
  {
   "cell_type": "code",
   "execution_count": null,
   "id": "8d0e6dbf",
   "metadata": {},
   "outputs": [],
   "source": []
  },
  {
   "cell_type": "code",
   "execution_count": 8,
   "id": "cc007f5b",
   "metadata": {},
   "outputs": [],
   "source": [
    "# pip install matplotlib"
   ]
  },
  {
   "cell_type": "code",
   "execution_count": 9,
   "id": "9252ef24",
   "metadata": {},
   "outputs": [],
   "source": [
    "import numpy as np\n",
    "\n",
    "%matplotlib inline\n",
    "import matplotlib.pylab as plt\n",
    "import matplotlib.gridspec as gridspec\n"
   ]
  },
  {
   "cell_type": "code",
   "execution_count": 11,
   "id": "c08b8f12",
   "metadata": {},
   "outputs": [],
   "source": [
    "# Algorithms for mel-spectrogram computation\n",
    "audio = MonoLoader(filename=filename, sampleRate=sampleRate)\n",
    "\n",
    "fc = FrameCutter(frameSize=frameSize, hopSize=hopSize)\n",
    "\n",
    "w = Windowing(normalized=False)\n",
    "\n",
    "spec = Spectrum()\n",
    "\n",
    "mel = MelBands(numberBands=numberBands, sampleRate=sampleRate,\n",
    "               highFrequencyBound=sampleRate // 2, \n",
    "               inputSize=frameSize // 2 + 1,\n",
    "               weighting=weighting, normalize=normalize,\n",
    "               warpingFormula=warpingFormula)\n",
    "\n",
    "# Algorithms for logarithmic compression of mel-spectrograms\n",
    "shift = UnaryOperator(shift=1, scale=10000)\n",
    "\n",
    "comp = UnaryOperator(type='log10')\n",
    "\n",
    "# This algorithm cuts the mel-spectrograms into patches\n",
    "# according to the model's input size and stores them in a data\n",
    "# type compatible with TensorFlow\n",
    "vtt = VectorRealToTensor(shape=[1, 1, patchSize, numberBands])\n",
    "\n",
    "# Auxiliar algorithm to store tensors into pools\n",
    "ttp = TensorToPool(namespace=input_layer)\n",
    "\n",
    "# The core TensorFlow wrapper algorithm operates on pools\n",
    "# to accept a variable number of inputs and outputs\n",
    "tfp = TensorflowPredict(graphFilename=modelName,\n",
    "                        inputs=[input_layer],\n",
    "                        outputs=[output_layer])\n",
    "\n",
    "# Algorithms to retrieve the predictions from the wrapper\n",
    "ptt = PoolToTensor(namespace=output_layer)\n",
    "\n",
    "ttv = TensorToVectorReal()\n",
    "\n",
    "# Another pool to store output predictions\n",
    "pool = Pool()"
   ]
  },
  {
   "cell_type": "code",
   "execution_count": 13,
   "id": "ff2fbfe9",
   "metadata": {},
   "outputs": [],
   "source": [
    "audio.audio    >>  fc.signal\n",
    "fc.frame       >>  w.frame\n",
    "w.frame        >>  spec.frame\n",
    "spec.spectrum  >>  mel.spectrum\n",
    "mel.bands      >>  shift.array\n",
    "shift.array    >>  comp.array\n",
    "comp.array     >>  vtt.frame\n",
    "vtt.tensor     >>  ttp.tensor\n",
    "ttp.pool       >>  tfp.poolIn\n",
    "tfp.poolOut    >>  ptt.pool\n",
    "ptt.tensor     >>  ttv.tensor\n",
    "ttv.frame      >>  (pool, output_layer)\n",
    "\n",
    "# Store mel-spectrograms to reuse them later in this tutorial\n",
    "comp.array     >>  (pool, \"melbands\")"
   ]
  },
  {
   "cell_type": "code",
   "execution_count": 14,
   "id": "98e937b1",
   "metadata": {},
   "outputs": [
    {
     "name": "stdout",
     "output_type": "stream",
     "text": [
      "Prediction time: 2.13s\n"
     ]
    },
    {
     "name": "stderr",
     "output_type": "stream",
     "text": [
      "[   INFO   ] On connection UnaryOperator::array → VectorRealToTensor::frame:\n",
      "[   INFO   ] BUFFER SIZE MISMATCH: max=0 - asked for read size 187\n",
      "[   INFO   ] resizing buffer to 1640/205\n",
      "2021-07-16 16:09:42.632592: I tensorflow/core/platform/profile_utils/cpu_utils.cc:114] CPU Frequency: 3701000000 Hz\n",
      "[ WARNING  ] VectorRealToTensor: Last patch produced by repeating the last 2 frames. May result in unreliable predictions.\n"
     ]
    }
   ],
   "source": [
    "from time import time\n",
    "\n",
    "start_time = time()\n",
    "\n",
    "run(audio)\n",
    "\n",
    "print('Prediction time: {:.2f}s'.format(time() - start_time))"
   ]
  },
  {
   "cell_type": "code",
   "execution_count": 15,
   "id": "3a4bed64",
   "metadata": {},
   "outputs": [
    {
     "name": "stdout",
     "output_type": "stream",
     "text": [
      "Most predominant tags:\n",
      "1: rock\n",
      "2: indie\n",
      "3: alternative\n"
     ]
    }
   ],
   "source": [
    "import numpy as np\n",
    "\n",
    "print('Most predominant tags:')\n",
    "for i, l  in enumerate(np.mean(pool[output_layer],\n",
    "                       axis=0).argsort()[-3:][::-1], 1):\n",
    "    print('{}: {}'.format(i, msd_labels[l]))"
   ]
  },
  {
   "cell_type": "code",
   "execution_count": 16,
   "id": "de83d04d",
   "metadata": {},
   "outputs": [
    {
     "data": {
      "image/png": "[encoded data removed]",
      "text/plain": [
       "<Figure size 864x1440 with 1 Axes>"
      ]
     },
     "metadata": {
      "needs_background": "light"
     },
     "output_type": "display_data"
    }
   ],
   "source": [
    "import matplotlib.pyplot as plt\n",
    "\n",
    "plt.rcParams[\"figure.figsize\"] = [12, 20]\n",
    "\n",
    "f, ax = plt.subplots()\n",
    "ax.matshow(pool[output_layer].T, aspect=1.5)\n",
    "_ = plt.yticks(np.arange(50), msd_labels, fontsize=11)"
   ]
  },
  {
   "cell_type": "code",
   "execution_count": 12,
   "id": "c49a9342",
   "metadata": {},
   "outputs": [
    {
     "ename": "NameError",
     "evalue": "name 'taggram' is not defined",
     "output_type": "error",
     "traceback": [
      "\u001b[0;31m---------------------------------------------------------------------------\u001b[0m",
      "\u001b[0;31mNameError\u001b[0m                                 Traceback (most recent call last)",
      "\u001b[0;32m/tmp/ipykernel_3263/1636263791.py\u001b[0m in \u001b[0;36m<module>\u001b[0;34m\u001b[0m\n\u001b[1;32m      5\u001b[0m \u001b[0mfontsize\u001b[0m\u001b[0;34m=\u001b[0m\u001b[0;36m12\u001b[0m\u001b[0;34m\u001b[0m\u001b[0;34m\u001b[0m\u001b[0m\n\u001b[1;32m      6\u001b[0m \u001b[0mfig\u001b[0m\u001b[0;34m,\u001b[0m \u001b[0max\u001b[0m \u001b[0;34m=\u001b[0m \u001b[0mplt\u001b[0m\u001b[0;34m.\u001b[0m\u001b[0msubplots\u001b[0m\u001b[0;34m(\u001b[0m\u001b[0;34m)\u001b[0m\u001b[0;34m\u001b[0m\u001b[0;34m\u001b[0m\u001b[0m\n\u001b[0;32m----> 7\u001b[0;31m \u001b[0max\u001b[0m\u001b[0;34m.\u001b[0m\u001b[0mimshow\u001b[0m\u001b[0;34m(\u001b[0m\u001b[0mtaggram\u001b[0m\u001b[0;34m.\u001b[0m\u001b[0mT\u001b[0m\u001b[0;34m,\u001b[0m \u001b[0minterpolation\u001b[0m\u001b[0;34m=\u001b[0m\u001b[0;32mNone\u001b[0m\u001b[0;34m,\u001b[0m \u001b[0maspect\u001b[0m\u001b[0;34m=\u001b[0m\u001b[0;34m\"auto\"\u001b[0m\u001b[0;34m)\u001b[0m\u001b[0;34m\u001b[0m\u001b[0;34m\u001b[0m\u001b[0m\n\u001b[0m\u001b[1;32m      8\u001b[0m \u001b[0;34m\u001b[0m\u001b[0m\n\u001b[1;32m      9\u001b[0m \u001b[0;31m# title\u001b[0m\u001b[0;34m\u001b[0m\u001b[0;34m\u001b[0m\u001b[0;34m\u001b[0m\u001b[0m\n",
      "\u001b[0;31mNameError\u001b[0m: name 'taggram' is not defined"
     ]
    },
    {
     "data": {
      "image/png": "[encoded data removed]",
      "text/plain": [
       "<Figure size 1440x720 with 1 Axes>"
      ]
     },
     "metadata": {
      "needs_background": "light"
     },
     "output_type": "display_data"
    }
   ],
   "source": [
    "\n",
    "in_length = 3 # seconds -- by default, the model takes inputs of 3 seconds with no overlap\n",
    "\n",
    "# depict taggram\n",
    "plt.rcParams[\"figure.figsize\"] = (20,10)\n",
    "fontsize=12\n",
    "fig, ax = plt.subplots()\n",
    "ax.imshow(taggram.T, interpolation=None, aspect=\"auto\")\n",
    "\n",
    "# title\n",
    "ax.title.set_text('Taggram')\n",
    "ax.title.set_fontsize(fontsize)\n",
    "\n",
    "# x-axis title\n",
    "ax.set_xlabel('(seconds)', fontsize=fontsize)\n",
    "\n",
    "# y-axis\n",
    "y_pos = np.arange(len(tags))\n",
    "ax.set_yticks(y_pos)\n",
    "ax.set_yticklabels(tags, fontsize=fontsize-1)\n",
    "\n",
    "# x-axis\n",
    "x_pos = np.arange(taggram.shape[0])\n",
    "x_label = np.arange(in_length/2, in_length*taggram.shape[0], 3)\n",
    "ax.set_xticks(x_pos)\n",
    "ax.set_xticklabels(x_label, fontsize=fontsize)\n",
    "\n",
    "plt.show()"
   ]
  },
  {
   "cell_type": "code",
   "execution_count": 12,
   "id": "052e6dd2",
   "metadata": {},
   "outputs": [
    {
     "name": "stdout",
     "output_type": "stream",
     "text": [
      "Computing spectrogram (w/ librosa) and tags (w/ tensorflow).. "
     ]
    },
    {
     "name": "stderr",
     "output_type": "stream",
     "text": [
      "/home/drew/.local/lib/python3.6/site-packages/librosa/core/audio.py:165: UserWarning: PySoundFile failed. Trying audioread instead.\n",
      "  warnings.warn(\"PySoundFile failed. Trying audioread instead.\")\n"
     ]
    },
    {
     "name": "stdout",
     "output_type": "stream",
     "text": [
      "done!\n",
      "[../mp3/punky.mp3] Top1 tags: \n",
      " - indie\n"
     ]
    },
    {
     "data": {
      "text/plain": [
       "['indie']"
      ]
     },
     "execution_count": 12,
     "metadata": {},
     "output_type": "execute_result"
    }
   ],
   "source": [
    "from musicnn.tagger import top_tags\n",
    "top_tags(filename, model='MSD_musicnn', topN=1)"
   ]
  },
  {
   "cell_type": "code",
   "execution_count": null,
   "id": "0e737ab2",
   "metadata": {},
   "outputs": [],
   "source": []
  },
  {
   "cell_type": "markdown",
   "id": "49ee09a2",
   "metadata": {},
   "source": [
    "# Natural Language Processing"
   ]
  },
  {
   "cell_type": "code",
   "execution_count": 214,
   "id": "91b5d179",
   "metadata": {},
   "outputs": [],
   "source": [
    "import speech_recognition as sr"
   ]
  },
  {
   "cell_type": "code",
   "execution_count": 215,
   "id": "9b21b84d",
   "metadata": {},
   "outputs": [],
   "source": [
    "r = sr.Recognizer()"
   ]
  },
  {
   "cell_type": "code",
   "execution_count": 216,
   "id": "ad141900",
   "metadata": {},
   "outputs": [
    {
     "ename": "UnknownValueError",
     "evalue": "",
     "output_type": "error",
     "traceback": [
      "\u001b[0;31m---------------------------------------------------------------------------\u001b[0m",
      "\u001b[0;31mUnknownValueError\u001b[0m                         Traceback (most recent call last)",
      "\u001b[0;32m<ipython-input-216-cd7214dcefe5>\u001b[0m in \u001b[0;36m<module>\u001b[0;34m\u001b[0m\n\u001b[1;32m      4\u001b[0m     \u001b[0;31m# recognize (convert from speech to text)\u001b[0m\u001b[0;34m\u001b[0m\u001b[0;34m\u001b[0m\u001b[0;34m\u001b[0m\u001b[0m\n\u001b[1;32m      5\u001b[0m     \u001b[0mr\u001b[0m\u001b[0;34m.\u001b[0m\u001b[0madjust_for_ambient_noise\u001b[0m\u001b[0;34m(\u001b[0m\u001b[0msource\u001b[0m\u001b[0;34m,\u001b[0m \u001b[0mduration\u001b[0m \u001b[0;34m=\u001b[0m \u001b[0;36m3\u001b[0m\u001b[0;34m)\u001b[0m\u001b[0;34m\u001b[0m\u001b[0;34m\u001b[0m\u001b[0m\n\u001b[0;32m----> 6\u001b[0;31m     \u001b[0mtext\u001b[0m \u001b[0;34m=\u001b[0m \u001b[0mr\u001b[0m\u001b[0;34m.\u001b[0m\u001b[0mrecognize_google\u001b[0m\u001b[0;34m(\u001b[0m\u001b[0maudio_data\u001b[0m\u001b[0;34m)\u001b[0m\u001b[0;34m\u001b[0m\u001b[0;34m\u001b[0m\u001b[0m\n\u001b[0m\u001b[1;32m      7\u001b[0m     \u001b[0mprint\u001b[0m\u001b[0;34m(\u001b[0m\u001b[0mtext\u001b[0m\u001b[0;34m)\u001b[0m\u001b[0;34m\u001b[0m\u001b[0;34m\u001b[0m\u001b[0m\n",
      "\u001b[0;32m~/.local/lib/python3.8/site-packages/speech_recognition/__init__.py\u001b[0m in \u001b[0;36mrecognize_google\u001b[0;34m(self, audio_data, key, language, show_all)\u001b[0m\n\u001b[1;32m    856\u001b[0m         \u001b[0;31m# return results\u001b[0m\u001b[0;34m\u001b[0m\u001b[0;34m\u001b[0m\u001b[0;34m\u001b[0m\u001b[0m\n\u001b[1;32m    857\u001b[0m         \u001b[0;32mif\u001b[0m \u001b[0mshow_all\u001b[0m\u001b[0;34m:\u001b[0m \u001b[0;32mreturn\u001b[0m \u001b[0mactual_result\u001b[0m\u001b[0;34m\u001b[0m\u001b[0;34m\u001b[0m\u001b[0m\n\u001b[0;32m--> 858\u001b[0;31m         \u001b[0;32mif\u001b[0m \u001b[0;32mnot\u001b[0m \u001b[0misinstance\u001b[0m\u001b[0;34m(\u001b[0m\u001b[0mactual_result\u001b[0m\u001b[0;34m,\u001b[0m \u001b[0mdict\u001b[0m\u001b[0;34m)\u001b[0m \u001b[0;32mor\u001b[0m \u001b[0mlen\u001b[0m\u001b[0;34m(\u001b[0m\u001b[0mactual_result\u001b[0m\u001b[0;34m.\u001b[0m\u001b[0mget\u001b[0m\u001b[0;34m(\u001b[0m\u001b[0;34m\"alternative\"\u001b[0m\u001b[0;34m,\u001b[0m \u001b[0;34m[\u001b[0m\u001b[0;34m]\u001b[0m\u001b[0;34m)\u001b[0m\u001b[0;34m)\u001b[0m \u001b[0;34m==\u001b[0m \u001b[0;36m0\u001b[0m\u001b[0;34m:\u001b[0m \u001b[0;32mraise\u001b[0m \u001b[0mUnknownValueError\u001b[0m\u001b[0;34m(\u001b[0m\u001b[0;34m)\u001b[0m\u001b[0;34m\u001b[0m\u001b[0;34m\u001b[0m\u001b[0m\n\u001b[0m\u001b[1;32m    859\u001b[0m \u001b[0;34m\u001b[0m\u001b[0m\n\u001b[1;32m    860\u001b[0m         \u001b[0;32mif\u001b[0m \u001b[0;34m\"confidence\"\u001b[0m \u001b[0;32min\u001b[0m \u001b[0mactual_result\u001b[0m\u001b[0;34m[\u001b[0m\u001b[0;34m\"alternative\"\u001b[0m\u001b[0;34m]\u001b[0m\u001b[0;34m:\u001b[0m\u001b[0;34m\u001b[0m\u001b[0;34m\u001b[0m\u001b[0m\n",
      "\u001b[0;31mUnknownValueError\u001b[0m: "
     ]
    }
   ],
   "source": [
    "with sr.AudioFile(filename) as source:\n",
    "    # listen for the data (load audio to memory)\n",
    "    audio_data = r.record(source)\n",
    "    # recognize (convert from speech to text)\n",
    "    r.adjust_for_ambient_noise(source, duration = 3)\n",
    "    text = r.recognize_google(audio_data)\n",
    "    print(text)"
   ]
  },
  {
   "cell_type": "markdown",
   "id": "06fa5591",
   "metadata": {},
   "source": [
    "## Large Audio Files"
   ]
  },
  {
   "cell_type": "code",
   "execution_count": 227,
   "id": "e13ef86d",
   "metadata": {},
   "outputs": [],
   "source": [
    "import speech_recognition as sr \n",
    "import os \n",
    "from pydub import AudioSegment\n",
    "from pydub.silence import split_on_silence"
   ]
  },
  {
   "cell_type": "code",
   "execution_count": 228,
   "id": "1aaecebc",
   "metadata": {},
   "outputs": [],
   "source": [
    "r = sr.Recognizer()"
   ]
  },
  {
   "cell_type": "code",
   "execution_count": 229,
   "id": "af602b87",
   "metadata": {},
   "outputs": [],
   "source": [
    "def get_large_audio_transcription(path):\n",
    "    \"\"\"\n",
    "    Splitting the large audio file into chunks\n",
    "    and apply speech recognition on each of these chunks\n",
    "    \"\"\"\n",
    "    # open the audio file using pydub\n",
    "    sound = AudioSegment.from_wav(path)  \n",
    "    # split audio sound where silence is 700 miliseconds or more and get chunks\n",
    "    chunks = split_on_silence(sound,\n",
    "        # experiment with this value for your target audio file\n",
    "        min_silence_len = 500,\n",
    "        # adjust this per requirement\n",
    "        silence_thresh = sound.dBFS-14,\n",
    "        # keep the silence for 1 second, adjustable as well\n",
    "        keep_silence=500,\n",
    "    )\n",
    "    folder_name = \"audio-chunks\"\n",
    "    # create a directory to store the audio chunks\n",
    "    if not os.path.isdir(folder_name):\n",
    "        os.mkdir(folder_name)\n",
    "    whole_text = \"\"\n",
    "    # process each chunk \n",
    "    for i, audio_chunk in enumerate(chunks, start=1):\n",
    "        # export audio chunk and save it in\n",
    "        # the `folder_name` directory.\n",
    "        chunk_filename = os.path.join(folder_name, f\"chunk{i}.wav\")\n",
    "        audio_chunk.export(chunk_filename, format=\"wav\")\n",
    "        # recognize the chunk\n",
    "        with sr.AudioFile(chunk_filename) as source:\n",
    "            audio_listened = r.record(source)\n",
    "            # try converting it to text\n",
    "            try:\n",
    "                text = r.recognize_google(audio_listened)\n",
    "            except sr.UnknownValueError as e:\n",
    "                print(\"Error:\", str(e))\n",
    "            else:\n",
    "                text = f\"{text.capitalize()}. \"\n",
    "                print(chunk_filename, \":\", text)\n",
    "                whole_text += text\n",
    "    # return the text for all chunks detected\n",
    "    return whole_text"
   ]
  },
  {
   "cell_type": "code",
   "execution_count": 232,
   "id": "bef26916",
   "metadata": {},
   "outputs": [],
   "source": [
    "nlpTextOutput = get_large_audio_transcription(filename)\n",
    "print(nlpTextOutputt)"
   ]
  },
  {
   "cell_type": "code",
   "execution_count": 233,
   "id": "ae80ffcf",
   "metadata": {},
   "outputs": [],
   "source": [
    "print(nlpTextOutput)"
   ]
  },
  {
   "cell_type": "code",
   "execution_count": null,
   "id": "6af2a9dd",
   "metadata": {},
   "outputs": [],
   "source": []
  },
  {
   "cell_type": "code",
   "execution_count": null,
   "id": "5a1df96d",
   "metadata": {},
   "outputs": [],
   "source": []
  },
  {
   "cell_type": "code",
   "execution_count": 128,
   "id": "8a75f650",
   "metadata": {},
   "outputs": [
    {
     "name": "stdout",
     "output_type": "stream",
     "text": [
      "Start talking: \n",
      "Stop talking.\n",
      "in the try block\n",
      "[]\n"
     ]
    }
   ],
   "source": [
    "import speech_recognition as sr\n",
    "\n",
    "recognize = sr.Recognizer()\n",
    "\n",
    "audioFile = filename\n",
    "\n",
    "with sr.AudioFile(audioFile) as source:\n",
    "    print(\"Start talking: \")\n",
    "    audio = recognize.record(source)\n",
    "    print(\"Stop talking.\")\n",
    "\n",
    "try:\n",
    "    text = recognize.recognize_google(audio, key=None, language='en-US', show_all=True)\n",
    "    print(\"in the try block\")\n",
    "    print (text)\n",
    "except Exception as e:\n",
    "    print(\"I am here\")\n",
    "    print (e)"
   ]
  },
  {
   "cell_type": "code",
   "execution_count": null,
   "id": "a08af2a6",
   "metadata": {},
   "outputs": [],
   "source": []
  },
  {
   "cell_type": "code",
   "execution_count": null,
   "id": "58f2a23c",
   "metadata": {},
   "outputs": [],
   "source": []
  },
  {
   "cell_type": "code",
   "execution_count": null,
   "id": "1eacacda",
   "metadata": {},
   "outputs": [],
   "source": []
  },
  {
   "cell_type": "code",
   "execution_count": null,
   "id": "8de8240d",
   "metadata": {},
   "outputs": [],
   "source": []
  }
 ],
 "metadata": {
  "interpreter": {
   "hash": "916dbcbb3f70747c44a77c7bcd40155683ae19c65e1c03b4aa3499c5328201f1"
  },
  "kernelspec": {
   "display_name": "Python 3 (ipykernel)",
   "language": "python",
   "name": "python3"
  },
  "language_info": {
   "codemirror_mode": {
    "name": "ipython",
    "version": 3
   },
   "file_extension": ".py",
   "mimetype": "text/x-python",
   "name": "python",
   "nbconvert_exporter": "python",
   "pygments_lexer": "ipython3",
   "version": "3.8.10"
  }
 },
 "nbformat": 4,
 "nbformat_minor": 5
}
